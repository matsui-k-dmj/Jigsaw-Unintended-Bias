{
 "cells": [
  {
   "cell_type": "code",
   "execution_count": 1,
   "metadata": {},
   "outputs": [
    {
     "name": "stdout",
     "output_type": "stream",
     "text": [
      "['sentencefeaturesoov', 'crawl_emb_nocomp.pickle', 'jigsaw-unintended-bias-in-toxicity-classification', 'crawl_emb_processed_lz4.joblib', 'x-train-tokenized', 'crawl_emb_nocomp.joblib', 'crawl_emb_processed.joblib', 'bert-pretrained-models', 'fasttext-crawl-300d-2m', 'glove840b300dtxt', 'roov-crawl.pickle']\n"
     ]
    }
   ],
   "source": [
    "# This Python 3 environment comes with many helpful analytics libraries installed\n",
    "# It is defined by the kaggle/python docker image: https://github.com/kaggle/docker-python\n",
    "# For example, here's several helpful packages to load in \n",
    "\n",
    "import numpy as np # linear algebra\n",
    "import pandas as pd # data processing, CSV file I/O (e.g. pd.read_csv)\n",
    "\n",
    "# Input data files are available in the \"../input/\" directory.\n",
    "# For example, running this (by clicking run or pressing Shift+Enter) will list the files in the input directory\n",
    "\n",
    "import os\n",
    "print(os.listdir(\"../input\"))\n",
    "\n",
    "# Any results you write to the current directory are saved as output."
   ]
  },
  {
   "cell_type": "code",
   "execution_count": 2,
   "metadata": {},
   "outputs": [],
   "source": [
    "LSTM_UNITS = 128\n",
    "batch_size = 512\n",
    "n_seeds = 1\n",
    "n_splits = 10\n",
    "n_epochs = 20\n",
    "EMBED_SIZE = 300\n",
    "SUBGROUP_NEGATIVE_WEIGHT_COEF = 1\n",
    "BACKGROUND_POSITIVE_WEIGHT_COEF = 0\n",
    "\n",
    "MAX_LEN = 220\n",
    "\n",
    "EMB_DROPOUT = 0.3\n",
    "MIDDLE_DROPOUT = 0.3\n",
    "\n",
    "DEBUG = False\n",
    "if DEBUG:\n",
    "    n_seeds = 2\n",
    "    n_splits = 2\n",
    "    n_epochs = 3\n",
    "DEBUG_DATA_SIZE = 10000"
   ]
  },
  {
   "cell_type": "code",
   "execution_count": 3,
   "metadata": {},
   "outputs": [
    {
     "name": "stderr",
     "output_type": "stream",
     "text": [
      "Using TensorFlow backend.\n"
     ]
    }
   ],
   "source": [
    "import numpy as np\n",
    "import pandas as pd\n",
    "import os\n",
    "import time\n",
    "import gc\n",
    "import random\n",
    "from tqdm import tqdm\n",
    "from contextlib import contextmanager\n",
    "from fastprogress import master_bar, progress_bar\n",
    "from keras.preprocessing import sequence\n",
    "from keras import preprocessing\n",
    "import torch\n",
    "from torch import nn\n",
    "from torch.utils import data\n",
    "from torch.nn import functional as F\n",
    "import matplotlib.pyplot as plt\n",
    "%matplotlib inline\n",
    "\n",
    "tqdm.pandas()"
   ]
  },
  {
   "cell_type": "code",
   "execution_count": 4,
   "metadata": {},
   "outputs": [
    {
     "name": "stdout",
     "output_type": "stream",
     "text": [
      "CPU times: user 20.9 s, sys: 1.15 s, total: 22 s\n",
      "Wall time: 22.4 s\n"
     ]
    }
   ],
   "source": [
    "%%time\n",
    "\n",
    "import re\n",
    "# これだと、'はembeddingに結構入ってるのに除外されちゃう。　よくないので ' だけ抜いた\n",
    "puncts = [',', '.', '\"', ':', ')', '(', '-', '!', '?', '|', ';', '$', '&', '/', '[', ']', '>', '%', '=', '#', '*', '+', '\\\\', '•',  '~', '@', '£', \n",
    " '·', '_', '{', '}', '©', '^', '®', '`',  '<', '→', '°', '€', '™', '›',  '♥', '←', '×', '§', '″', '′', 'Â', '█', '½', 'à', '…', \n",
    " '“', '★', '”', '–', '●', 'â', '►', '−', '¢', '²', '¬', '░', '¶', '↑', '±', '¿', '▾', '═', '¦', '║', '―', '¥', '▓', '—', '‹', '─', \n",
    " '▒', '：', '¼', '⊕', '▼', '▪', '†', '■', '’', '▀', '¨', '▄', '♫', '☆', 'é', '¯', '♦', '¤', '▲', 'è', '¸', '¾', 'Ã', '⋅', '‘', '∞', \n",
    " '∙', '）', '↓', '、', '│', '（', '»', '，', '♪', '╩', '╚', '³', '・', '╦', '╣', '╔', '╗', '▬', '❤', 'ï', 'Ø', '¹', '≤', '‡', '√', ]\n",
    "\n",
    "def clean_text(x: str) -> str:\n",
    "    for punct in puncts:\n",
    "        if punct in x:\n",
    "            x = x.replace(punct, ' {} '.format(punct))\n",
    "    return x\n",
    "\n",
    "# 9.9G\n",
    "\n",
    "\n",
    "if DEBUG:\n",
    "    DEBUG_DATA_SIZE = 10000\n",
    "    train = pd.read_csv('../input/jigsaw-unintended-bias-in-toxicity-classification/train.csv', nrows=DEBUG_DATA_SIZE)\n",
    "else:\n",
    "    train = pd.read_csv('../input/jigsaw-unintended-bias-in-toxicity-classification/train.csv')\n",
    "\n",
    "x_train = train['comment_text'].apply(lambda x: clean_text(x))"
   ]
  },
  {
   "cell_type": "code",
   "execution_count": 27,
   "metadata": {},
   "outputs": [
    {
     "data": {
      "text/plain": [
       "568691278"
      ]
     },
     "execution_count": 27,
     "metadata": {},
     "output_type": "execute_result"
    }
   ],
   "source": [
    "x_train.apply(lambda x: len(x)).sum()"
   ]
  },
  {
   "cell_type": "code",
   "execution_count": 14,
   "metadata": {},
   "outputs": [],
   "source": [
    "from textblob import TextBlob"
   ]
  },
  {
   "cell_type": "code",
   "execution_count": 19,
   "metadata": {
    "scrolled": false
   },
   "outputs": [
    {
     "data": {
      "text/plain": [
       "[\"This is so cool .  It's like ,  'would you want your mother to read this ?  ? ' Really great idea ,  well done ! \",\n",
       " \"Thank you !  !  This would make my life a lot less anxiety - inducing .  Keep it up ,  and don't let anyone get in your way ! \",\n",
       " 'This is such an urgent design problem ;  kudos to you for taking it on .  Very impressive ! ',\n",
       " \"Is this something I'll be able to install on my site ?  When will you be releasing it ? \",\n",
       " 'haha you guys are a bunch of losers . ',\n",
       " 'ur a sh * tty comment . ',\n",
       " 'hahahahahahahahhha suck it . ',\n",
       " 'FFFFUUUUUUUUUUUUUUU',\n",
       " 'The ranchers seem motivated by mostly by greed ;  no one should have the right to allow their animals destroy public land . ',\n",
       " \"It was a great show .  Not a combo I'd of expected to be good together but it was . \"]"
      ]
     },
     "execution_count": 19,
     "metadata": {},
     "output_type": "execute_result"
    }
   ],
   "source": [
    "list(x_train[:10])"
   ]
  },
  {
   "cell_type": "code",
   "execution_count": 8,
   "metadata": {},
   "outputs": [
    {
     "data": {
      "text/plain": [
       "'これはとてもクールです 。'"
      ]
     },
     "execution_count": 8,
     "metadata": {},
     "output_type": "execute_result"
    }
   ],
   "source": [
    "str(TextBlob(\"This is so cool .\").translate(to='ja'))"
   ]
  },
  {
   "cell_type": "code",
   "execution_count": 16,
   "metadata": {},
   "outputs": [],
   "source": [
    "en_ja_list = []\n",
    "for text in x_train[:10]:\n",
    "    try:\n",
    "        en_ja_list.append(str(TextBlob(text).translate(to='ja').translate(to='en')))\n",
    "    except:\n",
    "        en_ja_list.append(text)"
   ]
  },
  {
   "cell_type": "code",
   "execution_count": 10,
   "metadata": {},
   "outputs": [
    {
     "data": {
      "text/plain": [
       "'This is so cool.'"
      ]
     },
     "execution_count": 10,
     "metadata": {},
     "output_type": "execute_result"
    }
   ],
   "source": [
    "str(TextBlob(\"This is so cool .\").translate(to='ja').translate(to='en'))"
   ]
  },
  {
   "cell_type": "code",
   "execution_count": 11,
   "metadata": {},
   "outputs": [
    {
     "data": {
      "text/plain": [
       "'FFFFUUUUUUUUUUUUUUU'"
      ]
     },
     "execution_count": 11,
     "metadata": {},
     "output_type": "execute_result"
    }
   ],
   "source": [
    "text"
   ]
  },
  {
   "cell_type": "code",
   "execution_count": 17,
   "metadata": {},
   "outputs": [
    {
     "data": {
      "text/plain": [
       "['This is so cool. Like, \"Do you want your mother to read this?\" \\'A really great idea, it worked!',\n",
       " \"Thank you very much ! ! This makes my life far less disturbing-induced. Keep it and don't let someone get in your way!\",\n",
       " 'This is a very urgent design issue. I admire you for taking on it. Very impressive!',\n",
       " 'Is this something I can install on my site? When will you release it?',\n",
       " 'You all are a bunch of losers.',\n",
       " 'Please add a comment.',\n",
       " 'hahahahahahahahhha sucks it.',\n",
       " 'FFFFUUUUUUUUUUUUUUU',\n",
       " 'The rancher seems to be motivated by greed by the Lord. You should not have the right to allow their animals to destroy the public land.',\n",
       " 'It was a great show. Not a combo I was expecting a good together but it was good.']"
      ]
     },
     "execution_count": 17,
     "metadata": {},
     "output_type": "execute_result"
    }
   ],
   "source": [
    "en_ja_list"
   ]
  },
  {
   "cell_type": "code",
   "execution_count": 20,
   "metadata": {},
   "outputs": [],
   "source": [
    "en_ja_list = []\n",
    "for text in x_train[:10]:\n",
    "    try:\n",
    "        en_ja_list.append(str(TextBlob(text).translate(to='de').translate(to='en')))\n",
    "    except:\n",
    "        en_ja_list.append(text)"
   ]
  },
  {
   "cell_type": "code",
   "execution_count": 21,
   "metadata": {},
   "outputs": [
    {
     "data": {
      "text/plain": [
       "[\"That is so cool . It's like: Do you want your mom to read this? ? 'Really great idea, well done!\",\n",
       " 'Many Thanks ! ! This would make my life much less fearful. Keep up the good work and do not let anyone get in your way!',\n",
       " 'This is an urgent design problem. Kudos to you for accepting it. Very impressive !',\n",
       " 'Can I install this on my website? When will you publish it?',\n",
       " 'haha you are a few losers.',\n",
       " 'Your comment *.',\n",
       " 'hahahahahahahahhha suck it.',\n",
       " 'FFFFUUUUUUUUUUUUUUU',\n",
       " 'The ranchers seem to be mainly motivated by greed. Nobody should have the right that his animals destroy public land.',\n",
       " 'It was a great show. No combination that I expected to be good together, but it was.']"
      ]
     },
     "execution_count": 21,
     "metadata": {},
     "output_type": "execute_result"
    }
   ],
   "source": [
    "en_ja_list"
   ]
  },
  {
   "cell_type": "code",
   "execution_count": 22,
   "metadata": {},
   "outputs": [],
   "source": [
    "en_ja_list = []\n",
    "for text in x_train[:10]:\n",
    "    try:\n",
    "        en_ja_list.append(str(TextBlob(text).translate(to='fr').translate(to='en')))\n",
    "    except:\n",
    "        en_ja_list.append(text)"
   ]
  },
  {
   "cell_type": "code",
   "execution_count": 23,
   "metadata": {},
   "outputs": [
    {
     "data": {
      "text/plain": [
       "[\"This is so cool . It's like, 'would you like your mother to read this? ? 'Really good idea, congratulations!\",\n",
       " 'Thank you ! ! That would make my life a lot less distressing - inducing. Continue like this, and do not let anyone bother you!',\n",
       " \"It's such an urgent design problem. Congratulations to you for taking it. Very impressive !\",\n",
       " 'Can I install it on my site? When will you publish it?',\n",
       " 'haha you are a group of losers.',\n",
       " 'ur comment sh * tty.',\n",
       " 'hahahahahahahahhha suck him.',\n",
       " 'FFFFUUUUUUUUUUUUUUU',\n",
       " 'Breeders seem motivated mainly by greed; no one should have the right to allow his animals to destroy public lands.',\n",
       " 'It was a great show. I was not expecting a successful combo, but it was.']"
      ]
     },
     "execution_count": 23,
     "metadata": {},
     "output_type": "execute_result"
    }
   ],
   "source": [
    "en_ja_list"
   ]
  },
  {
   "cell_type": "code",
   "execution_count": 24,
   "metadata": {},
   "outputs": [],
   "source": [
    "en_ja_list = []\n",
    "for text in x_train[:10]:\n",
    "    try:\n",
    "        en_ja_list.append(str(TextBlob(text).translate(to='es').translate(to='en')))\n",
    "    except:\n",
    "        en_ja_list.append(text)"
   ]
  },
  {
   "cell_type": "code",
   "execution_count": 25,
   "metadata": {},
   "outputs": [
    {
     "data": {
      "text/plain": [
       "[\"This is great . It's like, 'do you want your mother to read this? ? 'Very good idea, well done!\",\n",
       " 'Thank you ! ! This would make my life much less anxiety-inducing. Keep it up and do not let anyone get in your way!',\n",
       " 'This is a design problem so urgent; Congratulations to you for assuming it. Very impressive !',\n",
       " 'Is this something I can install on my site? When will you launch it?',\n",
       " 'haha you are a group of losers.',\n",
       " 'ur to sh * tty comentario.',\n",
       " 'hahahahahahahahhha lo chupa',\n",
       " 'FFFFUUUUUUUUUUUUUUUUUUUUUUUUUUUUUUUUUUUUUUUUUUUUUUUUUUUUUUUUUUUUUUUUUUUUUUUUUUUUUUUUUUUUUUUUUUUUUUUUUUUUUUUUUUUUUUUUUUUUUUUUUUUUUUUUUUUUUUUUUUUUUUUUUUUUUUUUUUUUUUUUUUUUUUUUUUUUUUUUUUUUUUUUUUUUUUUUUUUUUUUUUU',\n",
       " 'Farmers seem motivated mainly by greed; No one should have the right to allow their animals to destroy public lands.',\n",
       " 'It was a great show. It was not a combo that I would have expected it to be good together, but it was.']"
      ]
     },
     "execution_count": 25,
     "metadata": {},
     "output_type": "execute_result"
    }
   ],
   "source": [
    "en_ja_list"
   ]
  },
  {
   "cell_type": "code",
   "execution_count": 26,
   "metadata": {},
   "outputs": [
    {
     "data": {
      "text/plain": [
       "['This is so cool. Like, \\'Do you want your mother to read this? ? \"Really great, good job!',\n",
       " \"Thank you! ! This will make my life less anxious - induced. Stick to it, don't let anyone hinder you!\",\n",
       " 'This is such a pressing design issue; thank you for accepting it. Very impressive!',\n",
       " 'Is this something I can install on my website? When did you release it?',\n",
       " 'Haha, you are a group of losers.',\n",
       " 'Your comment.',\n",
       " 'Hahahahahahahahhha sucks it.',\n",
       " 'FFFFUUUUUUUUUUUUUUU',\n",
       " 'The ranchers seem to be primarily driven by greed; no one should have the right to allow their animals to destroy public lands.',\n",
       " 'This is a great show. Not a combination, I expect it to be good, but it is.']"
      ]
     },
     "execution_count": 26,
     "metadata": {},
     "output_type": "execute_result"
    }
   ],
   "source": [
    "en_ja_list = []\n",
    "for text in x_train[:10]:\n",
    "    try:\n",
    "        en_ja_list.append(str(TextBlob(text).translate(to='zh').translate(to='en')))\n",
    "    except:\n",
    "        en_ja_list.append(text)\n",
    "        \n",
    "en_ja_list"
   ]
  },
  {
   "cell_type": "code",
   "execution_count": 30,
   "metadata": {},
   "outputs": [],
   "source": [
    "with open('tmp.txt', 'w') as f:\n",
    "    f.write('\\n'.join(en_ja_list))"
   ]
  },
  {
   "cell_type": "code",
   "execution_count": null,
   "metadata": {},
   "outputs": [],
   "source": []
  }
 ],
 "metadata": {
  "kernelspec": {
   "display_name": "Python 3",
   "language": "python",
   "name": "python3"
  },
  "language_info": {
   "codemirror_mode": {
    "name": "ipython",
    "version": 3
   },
   "file_extension": ".py",
   "mimetype": "text/x-python",
   "name": "python",
   "nbconvert_exporter": "python",
   "pygments_lexer": "ipython3",
   "version": "3.6.7"
  }
 },
 "nbformat": 4,
 "nbformat_minor": 2
}
